{
 "cells": [
  {
   "cell_type": "code",
   "execution_count": 1,
   "id": "637bab97-543e-4d30-bab7-aead4a1f02ad",
   "metadata": {
    "tags": []
   },
   "outputs": [
    {
     "name": "stdout",
     "output_type": "stream",
     "text": [
      "/shared/team/taxamyphage\n"
     ]
    }
   ],
   "source": [
    "cd /shared/team/taxamyphage/"
   ]
  },
  {
   "cell_type": "code",
   "execution_count": null,
   "id": "1cd7e062-f9be-442a-bdf4-121012a724ac",
   "metadata": {},
   "outputs": [],
   "source": []
  }
 ],
 "metadata": {
  "kernelspec": {
   "display_name": "Python [conda env:taxmyPHAGE]",
   "language": "python",
   "name": "conda-env-taxmyPHAGE-py"
  },
  "language_info": {
   "codemirror_mode": {
    "name": "ipython",
    "version": 3
   },
   "file_extension": ".py",
   "mimetype": "text/x-python",
   "name": "python",
   "nbconvert_exporter": "python",
   "pygments_lexer": "ipython3",
   "version": "3.11.0"
  }
 },
 "nbformat": 4,
 "nbformat_minor": 5
}
